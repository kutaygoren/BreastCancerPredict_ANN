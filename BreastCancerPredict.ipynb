{
  "nbformat": 4,
  "nbformat_minor": 0,
  "metadata": {
    "colab": {
      "name": "BreastCancerPredict",
      "provenance": [],
      "collapsed_sections": []
    },
    "kernelspec": {
      "name": "python3",
      "display_name": "Python 3"
    }
  },
  "cells": [
    {
      "cell_type": "code",
      "metadata": {
        "id": "N2EKNBQGnO70"
      },
      "source": [
        "import numpy as np\r\n",
        "import pandas as pd\r\n",
        "import matplotlib.pyplot as plt\r\n",
        "import scipy\r\n",
        "from sklearn.model_selection import train_test_split\r\n",
        "\r\n",
        "from utils import *"
      ],
      "execution_count": 1,
      "outputs": []
    },
    {
      "cell_type": "code",
      "metadata": {
        "id": "xtKePKWxq3Bp"
      },
      "source": [
        "train_x_orig, train_y, test_x_orig, test_y = load_data()\r\n",
        "\r\n",
        "train_x_orig = train_x_orig.to_numpy()\r\n",
        "train_y = np.array(np.matrix(train_y.to_numpy()))\r\n",
        "\r\n",
        "test_x_orig = test_x_orig.to_numpy()\r\n",
        "test_y = np.array(np.matrix(test_y.to_numpy()))"
      ],
      "execution_count": 2,
      "outputs": []
    },
    {
      "cell_type": "code",
      "metadata": {
        "colab": {
          "base_uri": "https://localhost:8080/"
        },
        "id": "ZWr1eJ9fs63H",
        "outputId": "a3d85f1e-8898-420a-de08-f8e248e92d90"
      },
      "source": [
        "m_train = train_x_orig.shape[0]\r\n",
        "m_test = test_x_orig.shape[0]\r\n",
        "\r\n",
        "print(\"Number of training examples: \" + str(m_train))\r\n",
        "print(\"Number of testing examples: \" + str(m_test))\r\n",
        "print(\"train_x_orig shape: \" + str(train_x_orig.shape))\r\n",
        "print(\"train_y shape: \" + str(train_y.shape))\r\n",
        "print(\"test_x_orig shape: \" + str(test_x_orig.shape))\r\n",
        "print(\"test_y shape: \" + str(test_y.shape))"
      ],
      "execution_count": 3,
      "outputs": [
        {
          "output_type": "stream",
          "text": [
            "Number of training examples: 426\n",
            "Number of testing examples: 143\n",
            "train_x_orig shape: (426, 30)\n",
            "train_y shape: (1, 426)\n",
            "test_x_orig shape: (143, 30)\n",
            "test_y shape: (1, 143)\n"
          ],
          "name": "stdout"
        }
      ]
    },
    {
      "cell_type": "code",
      "metadata": {
        "colab": {
          "base_uri": "https://localhost:8080/"
        },
        "id": "KOHTQQBJvC4S",
        "outputId": "5de89a62-9c6b-4be7-9353-2a5205031d90"
      },
      "source": [
        "transposed_train_x = train_x_orig.T\r\n",
        "transposed_test_x = test_x_orig.T\r\n",
        "\r\n",
        "# Standardize data to have feature values between 0 and 1.\r\n",
        "train_x = transposed_train_x/100\r\n",
        "test_x = transposed_test_x/100\r\n",
        "\r\n",
        "print (\"train_x's shape: \" + str(train_x.shape))\r\n",
        "print (\"test_x's shape: \" + str(test_x.shape))\r\n",
        "print(\"train_y's shape: \" + str(train_y.shape))\r\n",
        "print(\"test_y's shape: \" + str(test_y.shape))"
      ],
      "execution_count": 4,
      "outputs": [
        {
          "output_type": "stream",
          "text": [
            "train_x's shape: (30, 426)\n",
            "test_x's shape: (30, 143)\n",
            "train_y's shape: (1, 426)\n",
            "test_y's shape: (1, 143)\n"
          ],
          "name": "stdout"
        }
      ]
    },
    {
      "cell_type": "code",
      "metadata": {
        "id": "47h3130N1HXH"
      },
      "source": [
        "layers_dims = [30, 20, 7, 5, 1]"
      ],
      "execution_count": 5,
      "outputs": []
    },
    {
      "cell_type": "code",
      "metadata": {
        "id": "m_W5Myvi2EIm"
      },
      "source": [
        "def L_layer_model(X, Y, layers_dims, learning_rate = 0.009, num_iterations = 3000, print_cost=False):#lr was 0.009\r\n",
        "\r\n",
        "    np.random.seed(1)\r\n",
        "    costs = []\r\n",
        "    \r\n",
        "    # Parameters initialization.\r\n",
        "    parameters = initialize_parameters_deep(layers_dims)\r\n",
        "    \r\n",
        "    # Gradient Descend\r\n",
        "    for i in range(0, num_iterations):\r\n",
        "\r\n",
        "        # [LINEAR -> RELU]*(L-1) -> LINEAR -> SIGMOID.\r\n",
        "        AL, caches = L_model_forward(X, parameters)\r\n",
        "        \r\n",
        "        # Cost\r\n",
        "        cost = compute_cost(AL, Y)\r\n",
        "    \r\n",
        "        # Backward propagation.\r\n",
        "        grads = L_model_backward(AL, Y, caches)\r\n",
        " \r\n",
        "        # Update parameters.\r\n",
        "        parameters = update_parameters(parameters, grads, learning_rate)\r\n",
        "                \r\n",
        "        # Print the cost every 100 training example\r\n",
        "        if print_cost and i % 100 == 0:\r\n",
        "            print (\"Cost after iteration %i: %f\" %(i, cost))\r\n",
        "        if print_cost and i % 100 == 0:\r\n",
        "            costs.append(cost)\r\n",
        "            \r\n",
        "    plt.plot(np.squeeze(costs))\r\n",
        "    plt.ylabel('cost')\r\n",
        "    plt.xlabel('iterations (per tens)')\r\n",
        "    plt.title(\"Learning rate =\" + str(learning_rate))\r\n",
        "    plt.show()\r\n",
        "    \r\n",
        "    return parameters"
      ],
      "execution_count": 6,
      "outputs": []
    },
    {
      "cell_type": "code",
      "metadata": {
        "colab": {
          "base_uri": "https://localhost:8080/",
          "height": 1000
        },
        "id": "ptpUhuJI2GE3",
        "outputId": "d8dd98c5-860a-450f-f631-5934376033ae"
      },
      "source": [
        "parameters = L_layer_model(train_x, train_y, layers_dims, learning_rate = 0.009, num_iterations = 5000, print_cost = True)"
      ],
      "execution_count": 7,
      "outputs": [
        {
          "output_type": "stream",
          "text": [
            "Cost after iteration 0: 0.816078\n",
            "Cost after iteration 100: 0.656720\n",
            "Cost after iteration 200: 0.631283\n",
            "Cost after iteration 300: 0.601383\n",
            "Cost after iteration 400: 0.559821\n",
            "Cost after iteration 500: 0.492216\n",
            "Cost after iteration 600: 0.393363\n",
            "Cost after iteration 700: 0.319432\n",
            "Cost after iteration 800: 0.269298\n",
            "Cost after iteration 900: 0.236986\n",
            "Cost after iteration 1000: 0.216744\n",
            "Cost after iteration 1100: 0.204105\n",
            "Cost after iteration 1200: 0.196225\n",
            "Cost after iteration 1300: 0.191239\n",
            "Cost after iteration 1400: 0.188005\n",
            "Cost after iteration 1500: 0.185862\n",
            "Cost after iteration 1600: 0.184400\n",
            "Cost after iteration 1700: 0.183367\n",
            "Cost after iteration 1800: 0.182605\n",
            "Cost after iteration 1900: 0.182014\n",
            "Cost after iteration 2000: 0.181532\n",
            "Cost after iteration 2100: 0.181121\n",
            "Cost after iteration 2200: 0.180758\n",
            "Cost after iteration 2300: 0.180426\n",
            "Cost after iteration 2400: 0.180116\n",
            "Cost after iteration 2500: 0.179821\n",
            "Cost after iteration 2600: 0.179536\n",
            "Cost after iteration 2700: 0.179258\n",
            "Cost after iteration 2800: 0.178985\n",
            "Cost after iteration 2900: 0.178716\n",
            "Cost after iteration 3000: 0.178450\n",
            "Cost after iteration 3100: 0.178186\n",
            "Cost after iteration 3200: 0.177924\n",
            "Cost after iteration 3300: 0.177663\n",
            "Cost after iteration 3400: 0.177403\n",
            "Cost after iteration 3500: 0.177145\n",
            "Cost after iteration 3600: 0.176887\n",
            "Cost after iteration 3700: 0.176630\n",
            "Cost after iteration 3800: 0.176373\n",
            "Cost after iteration 3900: 0.176117\n",
            "Cost after iteration 4000: 0.175862\n",
            "Cost after iteration 4100: 0.175606\n",
            "Cost after iteration 4200: 0.175351\n",
            "Cost after iteration 4300: 0.175096\n",
            "Cost after iteration 4400: 0.174840\n",
            "Cost after iteration 4500: 0.174585\n",
            "Cost after iteration 4600: 0.174329\n",
            "Cost after iteration 4700: 0.174073\n",
            "Cost after iteration 4800: 0.173816\n",
            "Cost after iteration 4900: 0.173559\n"
          ],
          "name": "stdout"
        },
        {
          "output_type": "display_data",
          "data": {
            "image/png": "[encoded data removed]",
            "text/plain": [
              "<Figure size 432x288 with 1 Axes>"
            ]
          },
          "metadata": {
            "tags": [],
            "needs_background": "light"
          }
        }
      ]
    },
    {
      "cell_type": "code",
      "metadata": {
        "id": "wHsJoD4u2Hg1",
        "colab": {
          "base_uri": "https://localhost:8080/"
        },
        "outputId": "83a16c7f-6628-4034-9bec-f63f5376561a"
      },
      "source": [
        "pred_train = predict(train_x, train_y, parameters)"
      ],
      "execution_count": 8,
      "outputs": [
        {
          "output_type": "stream",
          "text": [
            "Accuracy: 0.9272300469483565\n"
          ],
          "name": "stdout"
        }
      ]
    },
    {
      "cell_type": "code",
      "metadata": {
        "colab": {
          "base_uri": "https://localhost:8080/"
        },
        "id": "uPyJAzWQ0n2d",
        "outputId": "04fd8dea-95fe-432a-f76e-4514046292a2"
      },
      "source": [
        "pred_test = predict(test_x, test_y, parameters)"
      ],
      "execution_count": 9,
      "outputs": [
        {
          "output_type": "stream",
          "text": [
            "Accuracy: 0.944055944055944\n"
          ],
          "name": "stdout"
        }
      ]
    },
    {
      "cell_type": "code",
      "metadata": {
        "id": "fYcwzIDp0pFJ"
      },
      "source": [
        ""
      ],
      "execution_count": 9,
      "outputs": []
    }
  ]
}